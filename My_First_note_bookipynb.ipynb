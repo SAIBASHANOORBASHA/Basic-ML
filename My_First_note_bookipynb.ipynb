{
  "nbformat": 4,
  "nbformat_minor": 0,
  "metadata": {
    "colab": {
      "name": "My First note bookipynb",
      "provenance": [],
      "authorship_tag": "ABX9TyMfp7GrZmxdLds7Fz8rY/TA",
      "include_colab_link": true
    },
    "kernelspec": {
      "name": "python3",
      "display_name": "Python 3"
    },
    "language_info": {
      "name": "python"
    }
  },
  "cells": [
    {
      "cell_type": "markdown",
      "metadata": {
        "id": "view-in-github",
        "colab_type": "text"
      },
      "source": [
        "<a href=\"https://colab.research.google.com/github/SAIBASHANOORBASHA/Basic-ML/blob/main/My_First_note_bookipynb.ipynb\" target=\"_parent\"><img src=\"https://colab.research.google.com/assets/colab-badge.svg\" alt=\"Open In Colab\"/></a>"
      ]
    },
    {
      "cell_type": "markdown",
      "metadata": {
        "id": "5AJB1mPFJ-L8"
      },
      "source": [
        "Python program for finding even or odd:"
      ]
    },
    {
      "cell_type": "code",
      "metadata": {
        "colab": {
          "base_uri": "https://localhost:8080/"
        },
        "id": "Wo188kgFMgKq",
        "outputId": "9231d370-8878-4c69-8326-cf0aba83beb8"
      },
      "source": [
        "N=int(input()) \n",
        "if (N%2==0):\n",
        "   print(\"Even\") \n",
        "else:\n",
        "   print(\"odd\")"
      ],
      "execution_count": 5,
      "outputs": [
        {
          "output_type": "stream",
          "text": [
            "8\n",
            "Even\n"
          ],
          "name": "stdout"
        }
      ]
    },
    {
      "cell_type": "markdown",
      "metadata": {
        "id": "-6REc7JdOUTe"
      },
      "source": [
        " Python program for finding maximum of 2 numbers"
      ]
    },
    {
      "cell_type": "code",
      "metadata": {
        "colab": {
          "base_uri": "https://localhost:8080/"
        },
        "id": "YZEuk-roOo86",
        "outputId": "67f72a91-4279-430e-f480-b6ad41eeb008"
      },
      "source": [
        "a=int(input(\"enter a:\"))\n",
        "b=int(input(\"enter B:\")) \n",
        "if (a>b):\n",
        "   print(\"max is a\") \n",
        "else:\n",
        "   print(\"max is b\")"
      ],
      "execution_count": 6,
      "outputs": [
        {
          "output_type": "stream",
          "text": [
            "enter a:14\n",
            "enter B:28\n",
            "max is b\n"
          ],
          "name": "stdout"
        }
      ]
    },
    {
      "cell_type": "markdown",
      "metadata": {
        "id": "5xL8P5sgQiQA"
      },
      "source": [
        " python program for finding leap year or not"
      ]
    },
    {
      "cell_type": "code",
      "metadata": {
        "colab": {
          "base_uri": "https://localhost:8080/"
        },
        "id": "TPCav8T9RVBX",
        "outputId": "1985bc59-d0e5-43d4-a132-3dbafb20daad"
      },
      "source": [
        "y=int(input(\"enter a number\")) \n",
        "if (y%4==0 and y%100!=0) or (y%400==0):\n",
        "   print(\"leap year\") \n",
        "else:\n",
        "   print(\"non leap year\")"
      ],
      "execution_count": 7,
      "outputs": [
        {
          "output_type": "stream",
          "text": [
            "enter a number2001\n",
            "non leap year\n"
          ],
          "name": "stdout"
        }
      ]
    }
  ]
}